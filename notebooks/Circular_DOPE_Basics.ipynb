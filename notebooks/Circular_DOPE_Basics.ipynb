{
 "cells": [
  {
   "cell_type": "markdown",
   "id": "c1fb1a57",
   "metadata": {},
   "source": [
    "# Circular DOPE"
   ]
  },
  {
   "cell_type": "code",
   "execution_count": null,
   "id": "c52e43c4",
   "metadata": {
    "scrolled": false
   },
   "outputs": [],
   "source": [
    "%load_ext autoreload\n",
    "%autoreload 2\n",
    "import numpy as np\n",
    "import matplotlib.pyplot as plt\n",
    "import sys\n",
    "import time\n",
    "sys.path.append(\"..\")\n",
    "from curvature import *\n",
    "from mergetree import *\n",
    "from matching import *\n",
    "from matching_plots import *"
   ]
  },
  {
   "cell_type": "code",
   "execution_count": null,
   "id": "29031853",
   "metadata": {},
   "outputs": [],
   "source": [
    "sigma = 10\n",
    "X1 = get_contour_curve(\"../mpeg7/Bone-1.png\")\n",
    "shift = 20\n",
    "X1 = np.concatenate((X1[shift::, :], X1[0:shift, :]), axis=0)\n",
    "curv1 = get_curv_2d(X1, sigma=sigma, loop=True)\n",
    "xc, xs, xc_idx = get_crit_timeseries(curv1, circular=True)\n",
    "\n",
    "X2 = get_contour_curve(\"../mpeg7/Bone-2.png\")\n",
    "X2 += np.array([[300, 0]])\n",
    "curv2 = get_curv_2d(X2, sigma=sigma, loop=True)\n",
    "yc, ys, yc_idx = get_crit_timeseries(curv2, circular=True)\n",
    "\n",
    "\n",
    "cost, x_shift, y_shift, path = circular_dope_match(curv1, curv2)\n",
    "print(\"x_shift\", x_shift)\n",
    "print(\"y_shift\", y_shift)\n",
    "print(\"cost\", cost)\n",
    "plt.plot(path[:, 0], path[:, 1])"
   ]
  },
  {
   "cell_type": "code",
   "execution_count": null,
   "id": "3e2f34de",
   "metadata": {},
   "outputs": [],
   "source": [
    "xc_idx_shift = np.roll(xc_idx, x_shift)\n",
    "yc_idx_shift = np.roll(yc_idx, y_shift)\n",
    "matching = get_matched_points(path)\n",
    "\n",
    "plt.figure(figsize=(12, 4))\n",
    "plt.plot(curv1)\n",
    "plt.plot(curv2)\n",
    "for [i, j] in matching:\n",
    "    i = int(i)\n",
    "    j = int(j)\n",
    "    i = xc_idx_shift[i]\n",
    "    j = yc_idx_shift[j]\n",
    "    xs = [i, j]\n",
    "    ys = [curv1[i], curv2[j]]\n",
    "    plt.plot(xs, ys, 'k', linestyle='--')"
   ]
  },
  {
   "cell_type": "code",
   "execution_count": null,
   "id": "27619c78",
   "metadata": {},
   "outputs": [],
   "source": []
  }
 ],
 "metadata": {
  "kernelspec": {
   "display_name": "Python 3 (ipykernel)",
   "language": "python",
   "name": "python3"
  },
  "language_info": {
   "codemirror_mode": {
    "name": "ipython",
    "version": 3
   },
   "file_extension": ".py",
   "mimetype": "text/x-python",
   "name": "python",
   "nbconvert_exporter": "python",
   "pygments_lexer": "ipython3",
   "version": "3.9.7"
  }
 },
 "nbformat": 4,
 "nbformat_minor": 5
}
